{
 "cells": [
  {
   "cell_type": "markdown",
   "id": "3467c72a-0116-4aae-9868-27079c00e6e0",
   "metadata": {},
   "source": [
    "# Enchanced Mini Expert System: University Logic Rules With CSV Logging for Record Keeping\n",
    "\n",
    "## Intended Learning Outcomes\n",
    "At the end of this activity, students should be able to:\n",
    "1. Translate real-world conditions into propositional logic expressions.\n",
    "2. Apply logical implication (P → Q) to decision-making scenarios.\n",
    "3. Develop a Python program that implements logic rules.\n",
    "4. Record and analyze system results using CSV as a simple database.\n",
    "5. Communicate findings through a short written report."
   ]
  },
  {
   "cell_type": "markdown",
   "id": "88449662-b21e-4699-b255-b598a1867d1b",
   "metadata": {
    "jp-MarkdownHeadingCollapsed": true
   },
   "source": [
    "## Utility Functions"
   ]
  },
  {
   "cell_type": "markdown",
   "id": "11b20985-fa61-4e16-98a2-62fda1d3b125",
   "metadata": {},
   "source": [
    "### Import Libraries"
   ]
  },
  {
   "cell_type": "code",
   "execution_count": 1,
   "id": "b4e48720-c020-4f74-ad41-95b346332230",
   "metadata": {},
   "outputs": [],
   "source": [
    "import csv\n",
    "from datetime import datetime"
   ]
  },
  {
   "cell_type": "markdown",
   "id": "1d8560e0-a34a-44fd-95e1-cf4be7978957",
   "metadata": {},
   "source": [
    "### Logic Functions"
   ]
  },
  {
   "cell_type": "code",
   "execution_count": 2,
   "id": "9464279c-fe7a-4f5e-882e-ab591a6b5fc6",
   "metadata": {},
   "outputs": [],
   "source": [
    "def impl(P, Q):\n",
    "    return (not P) or Q # Implication (P -> Q)\n",
    "\n",
    "def tf(b: bool) -> str:\n",
    "    return \"T\" if b else \"F\""
   ]
  },
  {
   "cell_type": "markdown",
   "id": "1bedbea7-8191-456d-becb-38a00100e782",
   "metadata": {},
   "source": [
    "### Logger"
   ]
  },
  {
   "cell_type": "code",
   "execution_count": 3,
   "id": "743dfe9c-1261-4e60-9864-2b840d543266",
   "metadata": {},
   "outputs": [],
   "source": [
    "def log_result(student_name, rule_name, result):\n",
    "    with open(\"logic_results.csv\", \"a\", newline=\"\") as file:\n",
    "        writer = csv.writer(file)\n",
    "        writer.writerow([\n",
    "            datetime.now().strftime(\"%Y-%m-%d %H:%M:%S\"),\n",
    "            student_name, rule_name, result\n",
    "        ])"
   ]
  },
  {
   "cell_type": "markdown",
   "id": "b80e2afa-38bd-42ae-a9fa-e66e3b3633f6",
   "metadata": {
    "jp-MarkdownHeadingCollapsed": true
   },
   "source": [
    "## Rules"
   ]
  },
  {
   "cell_type": "markdown",
   "id": "4d58979a-6658-413e-8708-a19c7f3a5f17",
   "metadata": {},
   "source": [
    "### Rule 1. Attendance Rule\n",
    "P = The Student is late\n",
    "Q = The Student should bring an excuse letter\n",
    "P->Q = IF The Student is late THEN The Student should bring an excuse letter"
   ]
  },
  {
   "cell_type": "code",
   "execution_count": 4,
   "id": "6dbd5705-3e7c-4c3e-a4b6-cb5ff817f7a9",
   "metadata": {},
   "outputs": [],
   "source": [
    "def attendance_rule(student_name):\n",
    "    print(\"\\n--- Attendance Rule Checker ---\")\n",
    "    late = input(\"Is the student late? (T/F): \").strip().upper() == \"T\"\n",
    "    excuse = input(\"Did you bring an excuse letter (T/F): \").strip().upper() == \"T\"\n",
    "\n",
    "    result = impl(late, excuse)\n",
    "    outcome = \"Satisfied\" if result else \"Violated\"\n",
    "    print(f\"P = {tf(late)} (Late), Q = {tf(excuse)} (Excuse Letter)\")\n",
    "    print(\"Result:\", outcome)\n",
    "\n",
    "    log_result(student_name, \"Attendance Rule\", outcome)"
   ]
  },
  {
   "cell_type": "markdown",
   "id": "35ef52db-5ed5-4707-be8b-1642448bc38f",
   "metadata": {},
   "source": [
    "### Rule 2. Grading Rule\n",
    "P = Grade >= 75\n",
    "Q = Student Passed\n",
    "P -> Q = IF The Student's Grade is greater than 75 THEN the student passed"
   ]
  },
  {
   "cell_type": "code",
   "execution_count": 5,
   "id": "e59a6193-03cb-4ffd-a1d6-e321fbe6dff7",
   "metadata": {},
   "outputs": [],
   "source": [
    "def grading_rule(student_name):\n",
    "    print(\"\\n--- Grading Rule Checker ---\")\n",
    "    try:\n",
    "        grade = float(input(\"Enter Student Grade: \"))\n",
    "    except ValueError:\n",
    "        print(\"Invalid Grade Input\")\n",
    "        return\n",
    "    \n",
    "    P = grade >= 75\n",
    "    Q = grade >= 75\n",
    "    result = impl(P, Q)\n",
    "    outcome = \"Satisfied\" if result else \"Violated\"\n",
    "\n",
    "    print(f\"P = {tf(P)} (grade >= 75), Q = {tf(Q)} (Student Passes)\")\n",
    "    print(\"Result:\", outcome)\n",
    "\n",
    "    log_result(student_name, \"Grading Rule\", outcome)"
   ]
  },
  {
   "cell_type": "markdown",
   "id": "b851351b-5f51-48e6-95d0-365bd9df9773",
   "metadata": {},
   "source": [
    "### Rule 3. Login System RUle\n",
    "P = Password is Correct\n",
    "Q = Access Granted\n",
    "P -> Q = IF Password is Correct THEN Access is Granted"
   ]
  },
  {
   "cell_type": "code",
   "execution_count": 6,
   "id": "f388806a-df6f-4cd3-8b7c-b648b02851bf",
   "metadata": {},
   "outputs": [],
   "source": [
    "def login_rule(student_name):\n",
    "    print(\"\\n--- Login Rule Checker ---\")\n",
    "    correct_password = \"admin123\"\n",
    "    attempt = input(\"Enter Password: \")\n",
    "\n",
    "    P = (attempt == correct_password) # Password Correct\n",
    "    Q = (attempt == correct_password) # Access granted if correct\n",
    "\n",
    "    result = impl(P, Q)\n",
    "    outcome = \"Satisfied\" if result else \"Violated\"\n",
    "\n",
    "    print(f\"P = {tf(P)} (Password Correct), Q = {tf(Q)} (Access Granted)\")\n",
    "    print(\"Result:\", outcome)\n",
    "\n",
    "    log_result(student_name, \"Login Rule\", outcome)"
   ]
  },
  {
   "cell_type": "markdown",
   "id": "c2c0a8bb-77a6-487d-bdb7-6e249e53a67e",
   "metadata": {},
   "source": [
    "### Rule 4. Bonus Points Rule\n",
    "P = Student have a regular attendance\n",
    "Q = The Student is Bonus Eligible\n",
    "P -> Q = IF The Student have regular attendance THEN The Student is Bonus Eligible"
   ]
  },
  {
   "cell_type": "code",
   "execution_count": 7,
   "id": "d31813ad-00ee-4bc3-961e-602dcb6a45f6",
   "metadata": {},
   "outputs": [],
   "source": [
    "def bonus_rule(student_name):\n",
    "    print(\"\\n--- Bonus Points Eligibility Checker ---\")\n",
    "    regular = input(\"Does the student have regular attendance? (T/F): \").strip().upper() == \"T\"\n",
    "    bonus = regular\n",
    "\n",
    "    result = impl(regular, bonus)\n",
    "    outcome = \"Satisfied\" if result else \"Violated\"\n",
    "\n",
    "    print(f\"P = {tf(result)} (Regular Attendance), Q = {tf(bonus)} (Bonus Eligible)\")\n",
    "    print(\"Result:\", outcome)\n",
    "\n",
    "    log_result(student_name, \"Bonus Rule\", outcome)"
   ]
  },
  {
   "cell_type": "markdown",
   "id": "837d7df9-7eab-4736-bb28-d7eda2dacaec",
   "metadata": {},
   "source": [
    "### Rule 5\n",
    "P = Student Passes\n",
    "Q = Final Project Submitted\n",
    "R = The Student Graduates\n",
    "(P ^ Q) -> R"
   ]
  },
  {
   "cell_type": "code",
   "execution_count": 12,
   "id": "7250ee15-09e4-426e-baea-ea36f55b47a8",
   "metadata": {},
   "outputs": [],
   "source": [
    "def graduation_rule(student_name):\n",
    "    print(\"\\n--- Graduation Requirements Checker ---\")\n",
    "    passes = input(\"Does the student passes the subject? (T/F): \").strip().upper() == \"T\"\n",
    "    final_project = input(\"Does the student submit the Final Project? (T/F): \").strip().upper() == \"T\"\n",
    "    graduates = passes and final_project\n",
    "\n",
    "    result = impl(passes and final_project, graduates)\n",
    "    outcome = \"Satisfied\" if result else \"Violated\"\n",
    "\n",
    "    print(f\"P = {tf(passes)} (Passes), Q = {tf(final_project)} (Submitted Final Project), R = {tf(graduates)} (Graduates)\")\n",
    "    print(\"Result:\", outcome)\n",
    "\n",
    "    log_result(student_name, \"Graduation Rule\", outcome)\n"
   ]
  },
  {
   "cell_type": "markdown",
   "id": "5bda2df6-13cb-4cda-8ff9-023eea515228",
   "metadata": {},
   "source": [
    "## Main System"
   ]
  },
  {
   "cell_type": "code",
   "execution_count": 15,
   "id": "41a29e25-6f4b-4082-bb1b-4fbf5402734b",
   "metadata": {},
   "outputs": [
    {
     "name": "stdout",
     "output_type": "stream",
     "text": [
      "=== University Logic Rule System ===\n"
     ]
    },
    {
     "name": "stdin",
     "output_type": "stream",
     "text": [
      "Enter Student Name: Jane Doe\n"
     ]
    },
    {
     "name": "stdout",
     "output_type": "stream",
     "text": [
      "\n",
      "==============================\n",
      "    Main Menu\n",
      "==============================\n",
      "1) Attendance Rule Checker\n",
      "2) Grading Rule Checker\n",
      "3) Login System Rule Checker\n",
      "4) Bonus Points Checker\n",
      "5) Graduation Requirement Checker\n",
      "6) Exit\n"
     ]
    },
    {
     "name": "stdin",
     "output_type": "stream",
     "text": [
      "Choose an Option:  1\n"
     ]
    },
    {
     "name": "stdout",
     "output_type": "stream",
     "text": [
      "\n",
      "--- Attendance Rule Checker ---\n"
     ]
    },
    {
     "name": "stdin",
     "output_type": "stream",
     "text": [
      "Is the student late? (T/F):  f\n",
      "Did you bring an excuse letter (T/F):  t\n"
     ]
    },
    {
     "name": "stdout",
     "output_type": "stream",
     "text": [
      "P = F (Late), Q = T (Excuse Letter)\n",
      "Result: Satisfied\n",
      "\n",
      "==============================\n",
      "    Main Menu\n",
      "==============================\n",
      "1) Attendance Rule Checker\n",
      "2) Grading Rule Checker\n",
      "3) Login System Rule Checker\n",
      "4) Bonus Points Checker\n",
      "5) Graduation Requirement Checker\n",
      "6) Exit\n"
     ]
    },
    {
     "name": "stdin",
     "output_type": "stream",
     "text": [
      "Choose an Option:  2\n"
     ]
    },
    {
     "name": "stdout",
     "output_type": "stream",
     "text": [
      "\n",
      "--- Grading Rule Checker ---\n"
     ]
    },
    {
     "name": "stdin",
     "output_type": "stream",
     "text": [
      "Enter Student Grade:  74\n"
     ]
    },
    {
     "name": "stdout",
     "output_type": "stream",
     "text": [
      "P = F (grade >= 75), Q = F (Student Passes)\n",
      "Result: Satisfied\n",
      "\n",
      "==============================\n",
      "    Main Menu\n",
      "==============================\n",
      "1) Attendance Rule Checker\n",
      "2) Grading Rule Checker\n",
      "3) Login System Rule Checker\n",
      "4) Bonus Points Checker\n",
      "5) Graduation Requirement Checker\n",
      "6) Exit\n"
     ]
    },
    {
     "name": "stdin",
     "output_type": "stream",
     "text": [
      "Choose an Option:  3\n"
     ]
    },
    {
     "name": "stdout",
     "output_type": "stream",
     "text": [
      "\n",
      "--- Login Rule Checker ---\n"
     ]
    },
    {
     "name": "stdin",
     "output_type": "stream",
     "text": [
      "Enter Password:  admin123\n"
     ]
    },
    {
     "name": "stdout",
     "output_type": "stream",
     "text": [
      "P = T (Password Correct), Q = T (Access Granted)\n",
      "Result: Satisfied\n",
      "\n",
      "==============================\n",
      "    Main Menu\n",
      "==============================\n",
      "1) Attendance Rule Checker\n",
      "2) Grading Rule Checker\n",
      "3) Login System Rule Checker\n",
      "4) Bonus Points Checker\n",
      "5) Graduation Requirement Checker\n",
      "6) Exit\n"
     ]
    },
    {
     "name": "stdin",
     "output_type": "stream",
     "text": [
      "Choose an Option:  4\n"
     ]
    },
    {
     "name": "stdout",
     "output_type": "stream",
     "text": [
      "\n",
      "--- Bonus Points Eligibility Checker ---\n"
     ]
    },
    {
     "name": "stdin",
     "output_type": "stream",
     "text": [
      "Does the student have regular attendance? (T/F):  t\n"
     ]
    },
    {
     "name": "stdout",
     "output_type": "stream",
     "text": [
      "P = T (Regular Attendance), Q = T (Bonus Eligible)\n",
      "Result: Satisfied\n",
      "\n",
      "==============================\n",
      "    Main Menu\n",
      "==============================\n",
      "1) Attendance Rule Checker\n",
      "2) Grading Rule Checker\n",
      "3) Login System Rule Checker\n",
      "4) Bonus Points Checker\n",
      "5) Graduation Requirement Checker\n",
      "6) Exit\n"
     ]
    },
    {
     "name": "stdin",
     "output_type": "stream",
     "text": [
      "Choose an Option:  5\n"
     ]
    },
    {
     "name": "stdout",
     "output_type": "stream",
     "text": [
      "\n",
      "--- Graduation Requirements Checker ---\n"
     ]
    },
    {
     "name": "stdin",
     "output_type": "stream",
     "text": [
      "Does the student passes the subject? (T/F):  f\n",
      "Does the student submit the Final Project? (T/F):  t\n"
     ]
    },
    {
     "name": "stdout",
     "output_type": "stream",
     "text": [
      "P = F (Passes), Q = T (Submitted Final Project), R = F (Graduates)\n",
      "Result: Satisfied\n",
      "\n",
      "==============================\n",
      "    Main Menu\n",
      "==============================\n",
      "1) Attendance Rule Checker\n",
      "2) Grading Rule Checker\n",
      "3) Login System Rule Checker\n",
      "4) Bonus Points Checker\n",
      "5) Graduation Requirement Checker\n",
      "6) Exit\n"
     ]
    },
    {
     "name": "stdin",
     "output_type": "stream",
     "text": [
      "Choose an Option:  6\n"
     ]
    },
    {
     "name": "stdout",
     "output_type": "stream",
     "text": [
      "Exiting... Results saved to logic_results.csv\n"
     ]
    }
   ],
   "source": [
    "def main():\n",
    "    print(\"=== University Logic Rule System ===\")\n",
    "    student_name = input(\"Enter Student Name: \".strip())\n",
    "\n",
    "    while True:\n",
    "        print(\"\\n==============================\")\n",
    "        print(\"    Main Menu\")\n",
    "        print(\"==============================\")\n",
    "\n",
    "        print(\"1) Attendance Rule Checker\")\n",
    "        print(\"2) Grading Rule Checker\")\n",
    "        print(\"3) Login System Rule Checker\")\n",
    "        print(\"4) Bonus Points Checker\")\n",
    "        print(\"5) Graduation Requirement Checker\")\n",
    "        print(\"6) Exit\")\n",
    "\n",
    "        choice = input(\"Choose an Option: \").strip()\n",
    "\n",
    "        match choice:\n",
    "            case \"1\": attendance_rule(student_name)\n",
    "            case \"2\": grading_rule(student_name)\n",
    "            case \"3\": login_rule(student_name)\n",
    "            case \"4\": bonus_rule(student_name)\n",
    "            case \"5\": graduation_rule(student_name)\n",
    "            case \"6\":\n",
    "                print(\"Exiting... Results saved to logic_results.csv\")\n",
    "                break\n",
    "            case _: print(\"Unknown Choice\")\n",
    "\n",
    "if __name__ == \"__main__\":\n",
    "    # Create CSV with headers if not exist\n",
    "    with open(\"logic_results.csv\", \"a\", newline=\"\") as file:\n",
    "        writer = csv.writer(file)\n",
    "        if file.tell() == 0: # Only write the header if file is empty\n",
    "            writer.writerow([\"Timestamp\", \"Student Name\", \"Rule\", \"Result\"])\n",
    "\n",
    "main()"
   ]
  },
  {
   "cell_type": "code",
   "execution_count": null,
   "id": "ddaeff47-d28a-4e6a-a6db-68aab1003f36",
   "metadata": {},
   "outputs": [],
   "source": []
  }
 ],
 "metadata": {
  "kernelspec": {
   "display_name": "Python 3 (ipykernel)",
   "language": "python",
   "name": "python3"
  },
  "language_info": {
   "codemirror_mode": {
    "name": "ipython",
    "version": 3
   },
   "file_extension": ".py",
   "mimetype": "text/x-python",
   "name": "python",
   "nbconvert_exporter": "python",
   "pygments_lexer": "ipython3",
   "version": "3.13.5"
  }
 },
 "nbformat": 4,
 "nbformat_minor": 5
}
